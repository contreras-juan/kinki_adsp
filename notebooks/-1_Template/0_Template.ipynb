{
 "cells": [
  {
   "cell_type": "markdown",
   "id": "015ec0f1-c072-4ebe-b38d-aea5db084ee9",
   "metadata": {
    "jp-MarkdownHeadingCollapsed": true
   },
   "source": [
    "<figure>\n",
    "    <center>\n",
    "    <img src=\"../../figures/kinki2.png\"  width=\"400\" height=\"370\" align=\"center\"/>\n",
    "    </center>\n",
    "</figure>"
   ]
  },
  {
   "cell_type": "markdown",
   "id": "f91b5386-17e5-45d3-b38a-382930ff73ea",
   "metadata": {
    "jp-MarkdownHeadingCollapsed": true
   },
   "source": [
    "# <span style=\"color:blue\"><center>Hackathon: Shinkansen Travel Experience</center></span>"
   ]
  },
  {
   "cell_type": "markdown",
   "id": "011db801-f393-4927-a697-3fe50f54a250",
   "metadata": {
    "editable": true,
    "slideshow": {
     "slide_type": ""
    },
    "tags": []
   },
   "source": [
    "# <span style=\"color:red\"><center>Process studied</center></span>"
   ]
  },
  {
   "cell_type": "markdown",
   "id": "3848ced8-5864-4247-9dd4-796deea0f796",
   "metadata": {
    "editable": true,
    "slideshow": {
     "slide_type": ""
    },
    "tags": []
   },
   "source": [
    "## <span style=\"color:green\"><center>Notebook's Topic</center></span>"
   ]
  },
  {
   "cell_type": "markdown",
   "id": "bc4167a0-0538-4e23-bb46-e6228b33d58e",
   "metadata": {
    "id": "U_obwR8tE-Dp"
   },
   "source": [
    "## <span style=\"color:blue\">Authors</span>"
   ]
  },
  {
   "cell_type": "markdown",
   "id": "7547ecfe-bdd0-4db4-81c4-68bf3e346e24",
   "metadata": {
    "id": "YhMk5c8FE-D6"
   },
   "source": [
    "1. Daniel Mauricio Montenegro Reyes, dextronomo@gmail.com\n",
    "1. Juan Felipe Contreras Alcívar, j.contrerasa94@gmail.com"
   ]
  },
  {
   "cell_type": "markdown",
   "id": "e8150a62-68d6-45fa-b6d1-2f7eee6f3d84",
   "metadata": {
    "id": "U_obwR8tE-Dp"
   },
   "source": [
    "## <span style=\"color:blue\">References</span>"
   ]
  },
  {
   "cell_type": "markdown",
   "id": "98299637-2b17-461a-b5dd-df636a457ea1",
   "metadata": {},
   "source": [
    "1. [Ref to Link](link here)"
   ]
  },
  {
   "cell_type": "markdown",
   "id": "7553397a-23ad-4182-b894-1a467c4f9958",
   "metadata": {
    "id": "U_obwR8tE-Dp"
   },
   "source": [
    "## <span style=\"color:blue\">Libraries</span>"
   ]
  },
  {
   "cell_type": "code",
   "execution_count": 1,
   "id": "eae8a750-2563-4a84-9f85-a25385553c71",
   "metadata": {},
   "outputs": [],
   "source": [
    "# Ejemplo\n",
    "#import pandas as pd"
   ]
  },
  {
   "cell_type": "markdown",
   "id": "ebb0fcbf-9a29-4eb8-9d5b-144861582218",
   "metadata": {
    "id": "U_obwR8tE-Dp"
   },
   "source": [
    "## <span style=\"color:blue\">Section X</span>"
   ]
  },
  {
   "cell_type": "markdown",
   "id": "40f6aad9-80a1-4291-b855-062ba3a75009",
   "metadata": {},
   "source": [
    "Text of section X"
   ]
  },
  {
   "cell_type": "code",
   "execution_count": 1,
   "id": "d996f4f3-e92b-4739-ad4a-a1eb61d666ac",
   "metadata": {},
   "outputs": [],
   "source": [
    "# Code of section x"
   ]
  },
  {
   "cell_type": "markdown",
   "id": "0b3b8375-d17d-4004-b39c-661ed7b8ff6a",
   "metadata": {
    "id": "U_obwR8tE-Dp"
   },
   "source": [
    "### <span style=\"color:#4CC9F0\">Subsection X</span>"
   ]
  },
  {
   "cell_type": "markdown",
   "id": "bf08903e-4ada-4979-be1f-5cfd78fcf359",
   "metadata": {},
   "source": [
    "Text of subsection X"
   ]
  },
  {
   "cell_type": "code",
   "execution_count": 2,
   "id": "0d0807b8-1127-442a-af18-a17b671a9f4a",
   "metadata": {},
   "outputs": [],
   "source": [
    "# Code of subsection x"
   ]
  },
  {
   "cell_type": "markdown",
   "id": "d3ae4bf1-0341-4e6c-aeec-b0f8d63d50ee",
   "metadata": {
    "id": "U_obwR8tE-Dp"
   },
   "source": [
    "## <span style=\"color:blue\">Automation</span>"
   ]
  },
  {
   "cell_type": "markdown",
   "id": "35f2645e-2875-4607-9d15-6dad32d16ef2",
   "metadata": {},
   "source": [
    "Automation of process"
   ]
  },
  {
   "cell_type": "markdown",
   "id": "e0e876f8-6848-43da-a114-812358906da7",
   "metadata": {
    "id": "U_obwR8tE-Dp"
   },
   "source": [
    "## <span style=\"color:blue\">Conclusions</span>"
   ]
  },
  {
   "cell_type": "markdown",
   "id": "98b508e8-dbc7-4492-b8d1-724a83c48872",
   "metadata": {},
   "source": [
    "Conclusions of Notebook"
   ]
  },
  {
   "cell_type": "markdown",
   "id": "ce55376b-fda1-46a2-84ab-e5d794156ae6",
   "metadata": {
    "id": "U_obwR8tE-Dp"
   },
   "source": [
    "## <span style=\"color:blue\">Recomendations</span>"
   ]
  },
  {
   "cell_type": "markdown",
   "id": "763751d5-4d3c-41a9-9121-9a87e77abe28",
   "metadata": {},
   "source": [
    "Recomendations of study made."
   ]
  },
  {
   "cell_type": "code",
   "execution_count": 17,
   "id": "81fc23c7-0c5b-4491-b7bb-174d7d3cb036",
   "metadata": {},
   "outputs": [
    {
     "name": "stdout",
     "output_type": "stream",
     "text": [
      "[['a' 'b' 'a']\n",
      " ['b' 'b' 'c']\n",
      " ['a' 'b' 'a']\n",
      " ['a' 'b' 'a']]\n"
     ]
    }
   ],
   "source": [
    "import numpy as np\n",
    "from sklearn.impute import KNNImputer\n",
    "from sklearn.preprocessing import OrdinalEncoder\n",
    "\n",
    "# Ejemplo de datos categóricos con valores faltantes\n",
    "X = np.array([['a', 'b', np.nan],\n",
    "              ['b', 'b', 'c'],\n",
    "              ['a', np.nan, 'a'],\n",
    "              [np.nan, 'b', 'a']], dtype=object)\n",
    "\n",
    "# Codificar las variables categóricas a numéricas\n",
    "encoder = OrdinalEncoder()\n",
    "X_encoded = encoder.fit_transform(X)\n",
    "\n",
    "# Definir una función personalizada para la distancia de Hamming que maneje NaN\n",
    "def nan_hamming(u, v, *, missing_values=np.nan):\n",
    "    # Ignorar nan en los cálculos\n",
    "    mask = ~np.isnan(u) & ~np.isnan(v)\n",
    "    return np.sum(u[mask] != v[mask]) / np.count_nonzero(mask)\n",
    "\n",
    "# Definir el KNNImputer usando la función de distancia personalizada\n",
    "imputer = KNNImputer(n_neighbors=2, metric=nan_hamming)\n",
    "X_imputed = imputer.fit_transform(X_encoded)\n",
    "\n",
    "# Decodificar los valores imputados de vuelta a las categorías originales\n",
    "X_imputed_decoded = encoder.inverse_transform(X_imputed)\n",
    "\n",
    "print(X_imputed_decoded)"
   ]
  },
  {
   "cell_type": "code",
   "execution_count": 18,
   "id": "71145928-58b6-4c87-9f0c-5a11f58b8547",
   "metadata": {},
   "outputs": [
    {
     "data": {
      "text/plain": [
       "array([[ 0.,  0., nan],\n",
       "       [ 1.,  0.,  1.],\n",
       "       [ 0., nan,  0.],\n",
       "       [nan,  0.,  0.]])"
      ]
     },
     "execution_count": 18,
     "metadata": {},
     "output_type": "execute_result"
    }
   ],
   "source": [
    "X_encoded"
   ]
  },
  {
   "cell_type": "code",
   "execution_count": 25,
   "id": "d9b5be29-447b-4313-acf3-3e9955f1ea9c",
   "metadata": {},
   "outputs": [
    {
     "name": "stdout",
     "output_type": "stream",
     "text": [
      "[['a' 'b' 'a']\n",
      " ['b' 'b' 'c']\n",
      " ['a' 'b' 'b']\n",
      " ['a' 'b' 'a']]\n"
     ]
    }
   ],
   "source": [
    "import numpy as np\n",
    "from sklearn.impute import KNNImputer\n",
    "from sklearn.preprocessing import LabelEncoder\n",
    "\n",
    "# Ejemplo de datos categóricos con valores faltantes\n",
    "X = np.array([['a', 'b', np.nan],\n",
    "              ['b', 'b', 'c'],\n",
    "              ['a', np.nan, 'b'],\n",
    "              [np.nan, 'b', 'a']], dtype=object)\n",
    "\n",
    "# Codificar las variables categóricas a numéricas usando LabelEncoder para cada columna\n",
    "label_encoders = []\n",
    "X_encoded = np.empty_like(X, dtype=float)\n",
    "\n",
    "for i in range(X.shape[1]):\n",
    "    le = LabelEncoder()\n",
    "    col = X[:, i]\n",
    "    mask = ~pd.isnull(col)\n",
    "    X_encoded[mask, i] = le.fit_transform(col[mask])\n",
    "    X_encoded[~mask, i] = np.nan\n",
    "    label_encoders.append(le)\n",
    "\n",
    "# Definir una función personalizada para la distancia de Hamming que maneje NaN\n",
    "def nan_hamming(u, v, *, missing_values=np.nan):\n",
    "    # Ignorar nan en los cálculos\n",
    "    mask = ~np.isnan(u) & ~np.isnan(v)\n",
    "    return np.sum(u[mask] != v[mask]) / np.count_nonzero(mask)\n",
    "\n",
    "# Definir el KNNImputer usando la función de distancia personalizada\n",
    "imputer = KNNImputer(n_neighbors=2, metric=nan_hamming)\n",
    "X_imputed = imputer.fit_transform(X_encoded)\n",
    "\n",
    "# Decodificar los valores imputados de vuelta a las categorías originales usando LabelEncoder para cada columna\n",
    "X_imputed_decoded = np.empty_like(X, dtype=object)\n",
    "\n",
    "for i in range(X.shape[1]):\n",
    "    le = label_encoders[i]\n",
    "    col = X_imputed[:, i]\n",
    "    mask = ~np.isnan(col)\n",
    "    X_imputed_decoded[mask, i] = le.inverse_transform(col[mask].astype(int))\n",
    "    X_imputed_decoded[~mask, i] = np.nan\n",
    "\n",
    "print(X_imputed_decoded)"
   ]
  }
 ],
 "metadata": {
  "kernelspec": {
   "display_name": "Python 3 (ipykernel)",
   "language": "python",
   "name": "python3"
  },
  "language_info": {
   "codemirror_mode": {
    "name": "ipython",
    "version": 3
   },
   "file_extension": ".py",
   "mimetype": "text/x-python",
   "name": "python",
   "nbconvert_exporter": "python",
   "pygments_lexer": "ipython3",
   "version": "3.10.14"
  }
 },
 "nbformat": 4,
 "nbformat_minor": 5
}
